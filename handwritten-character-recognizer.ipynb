{
 "cells": [
  {
   "cell_type": "code",
   "execution_count": 1,
   "id": "509461b5",
   "metadata": {
    "_cell_guid": "79c7e3d0-c299-4dcb-8224-4455121ee9b0",
    "_uuid": "d629ff2d2480ee46fbb7e2d37f6b5fab8052498a",
    "execution": {
     "iopub.execute_input": "2022-12-25T17:59:59.990156Z",
     "iopub.status.busy": "2022-12-25T17:59:59.989260Z",
     "iopub.status.idle": "2022-12-25T18:00:06.079609Z",
     "shell.execute_reply": "2022-12-25T18:00:06.079082Z",
     "shell.execute_reply.started": "2022-12-25T16:29:26.593476Z"
    },
    "papermill": {
     "duration": 6.119119,
     "end_time": "2022-12-25T18:00:06.079749",
     "exception": false,
     "start_time": "2022-12-25T17:59:59.960630",
     "status": "completed"
    },
    "tags": []
   },
   "outputs": [],
   "source": [
    "import numpy as np\n",
    "import pandas as pd\n",
    "from keras.preprocessing.image import ImageDataGenerator\n",
    "import os\n",
    "import random \n",
    "import cv2\n",
    "import imutils\n",
    "import random\n",
    "import matplotlib.pyplot as plt\n",
    "import seaborn as sns\n",
    "from sklearn.preprocessing import LabelBinarizer\n",
    "from keras.utils import np_utils\n",
    "from keras.models import Sequential\n",
    "from keras import optimizers\n",
    "from sklearn.preprocessing import LabelBinarizer\n",
    "from keras import backend as K\n",
    "from keras.layers import Dense, Activation, Flatten, Dense,MaxPooling2D, Dropout\n",
    "from keras.layers import Conv2D, MaxPooling2D, BatchNormalization"
   ]
  },
  {
   "attachments": {},
   "cell_type": "markdown",
   "id": "a3777516",
   "metadata": {},
   "source": [
    "## 1. Pre-Processing "
   ]
  },
  {
   "cell_type": "code",
   "execution_count": 2,
   "id": "711d6f4a",
   "metadata": {
    "execution": {
     "iopub.execute_input": "2022-12-25T18:00:06.130327Z",
     "iopub.status.busy": "2022-12-25T18:00:06.129756Z",
     "iopub.status.idle": "2022-12-25T18:13:03.342664Z",
     "shell.execute_reply": "2022-12-25T18:13:03.342025Z",
     "shell.execute_reply.started": "2022-12-25T16:29:32.608940Z"
    },
    "papermill": {
     "duration": 777.240709,
     "end_time": "2022-12-25T18:13:03.342848",
     "exception": false,
     "start_time": "2022-12-25T18:00:06.102139",
     "status": "completed"
    },
    "tags": []
   },
   "outputs": [],
   "source": [
    "dir = \"input/handwritten-characters/Train/\"\n",
    "train_data = []\n",
    "img_size = 32\n",
    "for i in os.listdir(dir):\n",
    "    count = 0\n",
    "    sub_directory = os.path.join(dir,i)\n",
    "    for j in os.listdir(sub_directory):\n",
    "        count+=1\n",
    "        if count > 4000:\n",
    "            break\n",
    "        img = cv2.imread(os.path.join(sub_directory,j),0)\n",
    "        img = cv2.resize(img,(img_size,img_size))\n",
    "        train_data.append([img,i])"
   ]
  },
  {
   "cell_type": "code",
   "execution_count": 3,
   "id": "4519fbbf",
   "metadata": {
    "execution": {
     "iopub.execute_input": "2022-12-25T18:13:03.393848Z",
     "iopub.status.busy": "2022-12-25T18:13:03.391099Z",
     "iopub.status.idle": "2022-12-25T18:13:03.399092Z",
     "shell.execute_reply": "2022-12-25T18:13:03.398668Z",
     "shell.execute_reply.started": "2022-12-25T16:43:13.913446Z"
    },
    "papermill": {
     "duration": 0.033581,
     "end_time": "2022-12-25T18:13:03.399227",
     "exception": false,
     "start_time": "2022-12-25T18:13:03.365646",
     "status": "completed"
    },
    "tags": []
   },
   "outputs": [
    {
     "data": {
      "text/plain": [
       "112000"
      ]
     },
     "execution_count": 3,
     "metadata": {},
     "output_type": "execute_result"
    }
   ],
   "source": [
    "len(train_data)"
   ]
  },
  {
   "cell_type": "code",
   "execution_count": 4,
   "id": "8661fcc9",
   "metadata": {
    "execution": {
     "iopub.execute_input": "2022-12-25T18:13:03.449720Z",
     "iopub.status.busy": "2022-12-25T18:13:03.449035Z",
     "iopub.status.idle": "2022-12-25T18:14:13.285877Z",
     "shell.execute_reply": "2022-12-25T18:14:13.285224Z",
     "shell.execute_reply.started": "2022-12-25T16:43:13.925697Z"
    },
    "papermill": {
     "duration": 69.864658,
     "end_time": "2022-12-25T18:14:13.286020",
     "exception": false,
     "start_time": "2022-12-25T18:13:03.421362",
     "status": "completed"
    },
    "tags": []
   },
   "outputs": [],
   "source": [
    "val_dir = \"input/handwritten-characters/Validation/\"\n",
    "val_data = []\n",
    "img_size = 32\n",
    "for i in os.listdir(val_dir):\n",
    "    count = 0\n",
    "    sub_directory = os.path.join(val_dir,i)\n",
    "    for j in os.listdir(sub_directory):\n",
    "        count+=1\n",
    "        if count > 1000:\n",
    "            break\n",
    "        img = cv2.imread(os.path.join(sub_directory,j),0)\n",
    "        img = cv2.resize(img,(img_size,img_size))\n",
    "        val_data.append([img,i])"
   ]
  },
  {
   "cell_type": "code",
   "execution_count": 5,
   "id": "e87ade35",
   "metadata": {
    "execution": {
     "iopub.execute_input": "2022-12-25T18:14:13.335390Z",
     "iopub.status.busy": "2022-12-25T18:14:13.334843Z",
     "iopub.status.idle": "2022-12-25T18:14:13.339617Z",
     "shell.execute_reply": "2022-12-25T18:14:13.340042Z",
     "shell.execute_reply.started": "2022-12-25T16:44:57.183210Z"
    },
    "papermill": {
     "duration": 0.031289,
     "end_time": "2022-12-25T18:14:13.340178",
     "exception": false,
     "start_time": "2022-12-25T18:14:13.308889",
     "status": "completed"
    },
    "tags": []
   },
   "outputs": [
    {
     "data": {
      "text/plain": [
       "28000"
      ]
     },
     "execution_count": 5,
     "metadata": {},
     "output_type": "execute_result"
    }
   ],
   "source": [
    "len(val_data)"
   ]
  },
  {
   "cell_type": "code",
   "execution_count": 6,
   "id": "4d7bf1af",
   "metadata": {
    "execution": {
     "iopub.execute_input": "2022-12-25T18:14:13.417564Z",
     "iopub.status.busy": "2022-12-25T18:14:13.407204Z",
     "iopub.status.idle": "2022-12-25T18:14:13.515257Z",
     "shell.execute_reply": "2022-12-25T18:14:13.514776Z",
     "shell.execute_reply.started": "2022-12-25T16:44:57.192547Z"
    },
    "papermill": {
     "duration": 0.153013,
     "end_time": "2022-12-25T18:14:13.515396",
     "exception": false,
     "start_time": "2022-12-25T18:14:13.362383",
     "status": "completed"
    },
    "tags": []
   },
   "outputs": [],
   "source": [
    "random.shuffle(train_data)\n",
    "random.shuffle(val_data)"
   ]
  },
  {
   "attachments": {},
   "cell_type": "markdown",
   "id": "c14af8a4",
   "metadata": {},
   "source": [
    "## 2. Segmentation"
   ]
  },
  {
   "cell_type": "code",
   "execution_count": 7,
   "id": "133daaf4",
   "metadata": {
    "execution": {
     "iopub.execute_input": "2022-12-25T18:14:13.588841Z",
     "iopub.status.busy": "2022-12-25T18:14:13.573392Z",
     "iopub.status.idle": "2022-12-25T18:14:13.639217Z",
     "shell.execute_reply": "2022-12-25T18:14:13.638773Z",
     "shell.execute_reply.started": "2022-12-25T16:44:57.341186Z"
    },
    "papermill": {
     "duration": 0.101446,
     "end_time": "2022-12-25T18:14:13.639374",
     "exception": false,
     "start_time": "2022-12-25T18:14:13.537928",
     "status": "completed"
    },
    "tags": []
   },
   "outputs": [],
   "source": [
    "train_X = []\n",
    "train_Y = []\n",
    "for features,label in train_data:\n",
    "    train_X.append(features)\n",
    "    train_Y.append(label)"
   ]
  },
  {
   "cell_type": "code",
   "execution_count": 8,
   "id": "0c286ff1",
   "metadata": {
    "execution": {
     "iopub.execute_input": "2022-12-25T18:14:13.696306Z",
     "iopub.status.busy": "2022-12-25T18:14:13.695513Z",
     "iopub.status.idle": "2022-12-25T18:14:13.697554Z",
     "shell.execute_reply": "2022-12-25T18:14:13.697939Z",
     "shell.execute_reply.started": "2022-12-25T16:44:57.420145Z"
    },
    "papermill": {
     "duration": 0.03589,
     "end_time": "2022-12-25T18:14:13.698070",
     "exception": false,
     "start_time": "2022-12-25T18:14:13.662180",
     "status": "completed"
    },
    "tags": []
   },
   "outputs": [],
   "source": [
    "val_X = []\n",
    "val_Y = []\n",
    "for features,label in val_data:\n",
    "    val_X.append(features)\n",
    "    val_Y.append(label)"
   ]
  },
  {
   "cell_type": "code",
   "execution_count": 9,
   "id": "1e4be09a",
   "metadata": {
    "execution": {
     "iopub.execute_input": "2022-12-25T18:14:13.762377Z",
     "iopub.status.busy": "2022-12-25T18:14:13.756986Z",
     "iopub.status.idle": "2022-12-25T18:14:14.016113Z",
     "shell.execute_reply": "2022-12-25T18:14:14.015576Z",
     "shell.execute_reply.started": "2022-12-25T16:44:57.434139Z"
    },
    "papermill": {
     "duration": 0.295923,
     "end_time": "2022-12-25T18:14:14.016249",
     "exception": false,
     "start_time": "2022-12-25T18:14:13.720326",
     "status": "completed"
    },
    "tags": []
   },
   "outputs": [],
   "source": [
    "LB = LabelBinarizer()\n",
    "train_Y = LB.fit_transform(train_Y)\n",
    "val_Y = LB.fit_transform(val_Y)"
   ]
  },
  {
   "cell_type": "code",
   "execution_count": 10,
   "id": "f4e0ee88",
   "metadata": {
    "execution": {
     "iopub.execute_input": "2022-12-25T18:14:14.092364Z",
     "iopub.status.busy": "2022-12-25T18:14:14.091484Z",
     "iopub.status.idle": "2022-12-25T18:14:14.595692Z",
     "shell.execute_reply": "2022-12-25T18:14:14.595157Z",
     "shell.execute_reply.started": "2022-12-25T16:44:57.744969Z"
    },
    "papermill": {
     "duration": 0.557122,
     "end_time": "2022-12-25T18:14:14.595831",
     "exception": false,
     "start_time": "2022-12-25T18:14:14.038709",
     "status": "completed"
    },
    "tags": []
   },
   "outputs": [],
   "source": [
    "train_X = np.array(train_X)/255.0\n",
    "train_X = train_X.reshape(-1,32,32,1)\n",
    "train_Y = np.array(train_Y)"
   ]
  },
  {
   "cell_type": "code",
   "execution_count": 11,
   "id": "6cf4cbce",
   "metadata": {
    "execution": {
     "iopub.execute_input": "2022-12-25T18:14:14.648788Z",
     "iopub.status.busy": "2022-12-25T18:14:14.647927Z",
     "iopub.status.idle": "2022-12-25T18:14:14.704267Z",
     "shell.execute_reply": "2022-12-25T18:14:14.703795Z",
     "shell.execute_reply.started": "2022-12-25T16:44:58.292275Z"
    },
    "papermill": {
     "duration": 0.085667,
     "end_time": "2022-12-25T18:14:14.704433",
     "exception": false,
     "start_time": "2022-12-25T18:14:14.618766",
     "status": "completed"
    },
    "tags": []
   },
   "outputs": [],
   "source": [
    "val_X = np.array(val_X)/255.0\n",
    "val_X = val_X.reshape(-1,32,32,1)\n",
    "val_Y = np.array(val_Y)"
   ]
  },
  {
   "cell_type": "code",
   "execution_count": 12,
   "id": "be0e108b",
   "metadata": {
    "execution": {
     "iopub.execute_input": "2022-12-25T18:14:14.754104Z",
     "iopub.status.busy": "2022-12-25T18:14:14.753293Z",
     "iopub.status.idle": "2022-12-25T18:14:14.757002Z",
     "shell.execute_reply": "2022-12-25T18:14:14.757605Z",
     "shell.execute_reply.started": "2022-12-25T16:44:58.360337Z"
    },
    "papermill": {
     "duration": 0.030553,
     "end_time": "2022-12-25T18:14:14.757784",
     "exception": false,
     "start_time": "2022-12-25T18:14:14.727231",
     "status": "completed"
    },
    "tags": []
   },
   "outputs": [
    {
     "name": "stdout",
     "output_type": "stream",
     "text": [
      "(112000, 32, 32, 1) (28000, 32, 32, 1)\n"
     ]
    }
   ],
   "source": [
    "print(train_X.shape,val_X.shape)"
   ]
  },
  {
   "cell_type": "code",
   "execution_count": 13,
   "id": "a5c3a6f1",
   "metadata": {
    "execution": {
     "iopub.execute_input": "2022-12-25T18:14:14.807667Z",
     "iopub.status.busy": "2022-12-25T18:14:14.807095Z",
     "iopub.status.idle": "2022-12-25T18:14:14.810301Z",
     "shell.execute_reply": "2022-12-25T18:14:14.810866Z",
     "shell.execute_reply.started": "2022-12-25T16:44:58.369002Z"
    },
    "papermill": {
     "duration": 0.029938,
     "end_time": "2022-12-25T18:14:14.811023",
     "exception": false,
     "start_time": "2022-12-25T18:14:14.781085",
     "status": "completed"
    },
    "tags": []
   },
   "outputs": [
    {
     "name": "stdout",
     "output_type": "stream",
     "text": [
      "(112000, 35) (28000, 35)\n"
     ]
    }
   ],
   "source": [
    "print(train_Y.shape,val_Y.shape)"
   ]
  },
  {
   "cell_type": "code",
   "execution_count": 14,
   "id": "4e1b2258",
   "metadata": {},
   "outputs": [],
   "source": [
    "# image_index = 0\n",
    "# print(train_Y[image_index])\n",
    "# plt.imshow(train_X[image_index])"
   ]
  },
  {
   "attachments": {},
   "cell_type": "markdown",
   "id": "de765a99",
   "metadata": {},
   "source": [
    "## 3. Feature Extraction"
   ]
  },
  {
   "cell_type": "code",
   "execution_count": 15,
   "id": "1da45461",
   "metadata": {
    "execution": {
     "iopub.execute_input": "2022-12-25T18:14:14.864058Z",
     "iopub.status.busy": "2022-12-25T18:14:14.863432Z",
     "iopub.status.idle": "2022-12-25T18:14:17.777114Z",
     "shell.execute_reply": "2022-12-25T18:14:17.776473Z",
     "shell.execute_reply.started": "2022-12-25T16:44:58.377505Z"
    },
    "papermill": {
     "duration": 2.942608,
     "end_time": "2022-12-25T18:14:17.777274",
     "exception": false,
     "start_time": "2022-12-25T18:14:14.834666",
     "status": "completed"
    },
    "tags": []
   },
   "outputs": [],
   "source": [
    "model = Sequential()\n",
    "\n",
    "model.add(Conv2D(32, (3, 3), padding = \"same\", activation='relu', input_shape=(32,32,1)))\n",
    "model.add(MaxPooling2D(pool_size=(2,2)))\n",
    "\n",
    "model.add(Conv2D(64, (3, 3), activation='relu'))\n",
    "model.add(MaxPooling2D(pool_size=(2,2)))\n",
    "\n",
    "model.add(Conv2D(128, (3, 3), activation='relu'))\n",
    "model.add(MaxPooling2D(pool_size=(2,2)))\n",
    "\n",
    "model.add(Dropout(0.25))\n",
    " \n",
    "model.add(Flatten())\n",
    "model.add(Dense(128, activation='relu'))\n",
    "model.add(Dropout(0.2))\n",
    "model.add(Dense(35, activation='softmax'))"
   ]
  },
  {
   "cell_type": "code",
   "execution_count": 16,
   "id": "69153826",
   "metadata": {
    "execution": {
     "iopub.execute_input": "2022-12-25T18:14:17.832412Z",
     "iopub.status.busy": "2022-12-25T18:14:17.831874Z",
     "iopub.status.idle": "2022-12-25T18:14:17.837929Z",
     "shell.execute_reply": "2022-12-25T18:14:17.838337Z",
     "shell.execute_reply.started": "2022-12-25T16:45:01.314069Z"
    },
    "papermill": {
     "duration": 0.036298,
     "end_time": "2022-12-25T18:14:17.838531",
     "exception": false,
     "start_time": "2022-12-25T18:14:17.802233",
     "status": "completed"
    },
    "tags": []
   },
   "outputs": [
    {
     "name": "stdout",
     "output_type": "stream",
     "text": [
      "Model: \"sequential\"\n",
      "_________________________________________________________________\n",
      " Layer (type)                Output Shape              Param #   \n",
      "=================================================================\n",
      " conv2d (Conv2D)             (None, 32, 32, 32)        320       \n",
      "                                                                 \n",
      " max_pooling2d (MaxPooling2D  (None, 16, 16, 32)       0         \n",
      " )                                                               \n",
      "                                                                 \n",
      " conv2d_1 (Conv2D)           (None, 14, 14, 64)        18496     \n",
      "                                                                 \n",
      " max_pooling2d_1 (MaxPooling  (None, 7, 7, 64)         0         \n",
      " 2D)                                                             \n",
      "                                                                 \n",
      " conv2d_2 (Conv2D)           (None, 5, 5, 128)         73856     \n",
      "                                                                 \n",
      " max_pooling2d_2 (MaxPooling  (None, 2, 2, 128)        0         \n",
      " 2D)                                                             \n",
      "                                                                 \n",
      " dropout (Dropout)           (None, 2, 2, 128)         0         \n",
      "                                                                 \n",
      " flatten (Flatten)           (None, 512)               0         \n",
      "                                                                 \n",
      " dense (Dense)               (None, 128)               65664     \n",
      "                                                                 \n",
      " dropout_1 (Dropout)         (None, 128)               0         \n",
      "                                                                 \n",
      " dense_1 (Dense)             (None, 35)                4515      \n",
      "                                                                 \n",
      "=================================================================\n",
      "Total params: 162,851\n",
      "Trainable params: 162,851\n",
      "Non-trainable params: 0\n",
      "_________________________________________________________________\n"
     ]
    }
   ],
   "source": [
    "model.summary()"
   ]
  },
  {
   "cell_type": "code",
   "execution_count": 17,
   "id": "e451d294",
   "metadata": {
    "execution": {
     "iopub.execute_input": "2022-12-25T18:14:17.896845Z",
     "iopub.status.busy": "2022-12-25T18:14:17.892802Z",
     "iopub.status.idle": "2022-12-25T18:14:17.902822Z",
     "shell.execute_reply": "2022-12-25T18:14:17.902412Z",
     "shell.execute_reply.started": "2022-12-25T16:45:01.328049Z"
    },
    "papermill": {
     "duration": 0.03874,
     "end_time": "2022-12-25T18:14:17.902930",
     "exception": false,
     "start_time": "2022-12-25T18:14:17.864190",
     "status": "completed"
    },
    "tags": []
   },
   "outputs": [],
   "source": [
    "model.compile(optimizer=\"adam\", loss='categorical_crossentropy',metrics=['accuracy'])"
   ]
  },
  {
   "attachments": {},
   "cell_type": "markdown",
   "id": "91deb341",
   "metadata": {},
   "source": [
    "## 4. Classification & Recognition (Training)"
   ]
  },
  {
   "cell_type": "code",
   "execution_count": 18,
   "id": "70011c7d",
   "metadata": {
    "execution": {
     "iopub.execute_input": "2022-12-25T18:14:17.954651Z",
     "iopub.status.busy": "2022-12-25T18:14:17.953990Z",
     "iopub.status.idle": "2022-12-25T18:32:11.010660Z",
     "shell.execute_reply": "2022-12-25T18:32:11.011132Z",
     "shell.execute_reply.started": "2022-12-25T16:45:01.340926Z"
    },
    "papermill": {
     "duration": 1073.084654,
     "end_time": "2022-12-25T18:32:11.011375",
     "exception": false,
     "start_time": "2022-12-25T18:14:17.926721",
     "status": "completed"
    },
    "scrolled": false,
    "tags": []
   },
   "outputs": [
    {
     "name": "stdout",
     "output_type": "stream",
     "text": [
      "Epoch 1/50\n",
      "1750/1750 [==============================] - 54s 28ms/step - loss: 0.6184 - accuracy: 0.8033 - val_loss: 0.4277 - val_accuracy: 0.8543\n",
      "Epoch 2/50\n",
      "1750/1750 [==============================] - 48s 27ms/step - loss: 0.3062 - accuracy: 0.8932 - val_loss: 0.4233 - val_accuracy: 0.8664\n",
      "Epoch 3/50\n",
      "1750/1750 [==============================] - 47s 27ms/step - loss: 0.2632 - accuracy: 0.9050 - val_loss: 0.4009 - val_accuracy: 0.8750\n",
      "Epoch 4/50\n",
      "1750/1750 [==============================] - 48s 27ms/step - loss: 0.2359 - accuracy: 0.9130 - val_loss: 0.3845 - val_accuracy: 0.8818\n",
      "Epoch 5/50\n",
      "1750/1750 [==============================] - 48s 27ms/step - loss: 0.2196 - accuracy: 0.9178 - val_loss: 0.3920 - val_accuracy: 0.8800\n",
      "Epoch 6/50\n",
      "1750/1750 [==============================] - 49s 28ms/step - loss: 0.2064 - accuracy: 0.9229 - val_loss: 0.3915 - val_accuracy: 0.8844\n",
      "Epoch 7/50\n",
      "1750/1750 [==============================] - 48s 28ms/step - loss: 0.1965 - accuracy: 0.9255 - val_loss: 0.3943 - val_accuracy: 0.8880\n",
      "Epoch 8/50\n",
      "1750/1750 [==============================] - 48s 28ms/step - loss: 0.1889 - accuracy: 0.9282 - val_loss: 0.3861 - val_accuracy: 0.8884\n",
      "Epoch 9/50\n",
      "1750/1750 [==============================] - 48s 28ms/step - loss: 0.1795 - accuracy: 0.9310 - val_loss: 0.3928 - val_accuracy: 0.8875\n",
      "Epoch 10/50\n",
      "1750/1750 [==============================] - 48s 28ms/step - loss: 0.1745 - accuracy: 0.9323 - val_loss: 0.3689 - val_accuracy: 0.8924\n",
      "Epoch 11/50\n",
      "1750/1750 [==============================] - 48s 28ms/step - loss: 0.1698 - accuracy: 0.9339 - val_loss: 0.4402 - val_accuracy: 0.8924\n",
      "Epoch 12/50\n",
      "1750/1750 [==============================] - 49s 28ms/step - loss: 0.1637 - accuracy: 0.9355 - val_loss: 0.4031 - val_accuracy: 0.8930\n",
      "Epoch 13/50\n",
      "1750/1750 [==============================] - 49s 28ms/step - loss: 0.1610 - accuracy: 0.9368 - val_loss: 0.4014 - val_accuracy: 0.8948\n",
      "Epoch 14/50\n",
      "1750/1750 [==============================] - 49s 28ms/step - loss: 0.1565 - accuracy: 0.9383 - val_loss: 0.4288 - val_accuracy: 0.8919\n",
      "Epoch 15/50\n",
      "1750/1750 [==============================] - 49s 28ms/step - loss: 0.1519 - accuracy: 0.9396 - val_loss: 0.4226 - val_accuracy: 0.8954\n",
      "Epoch 16/50\n",
      "1750/1750 [==============================] - 49s 28ms/step - loss: 0.1507 - accuracy: 0.9399 - val_loss: 0.4198 - val_accuracy: 0.8931\n",
      "Epoch 17/50\n",
      "1750/1750 [==============================] - 49s 28ms/step - loss: 0.1463 - accuracy: 0.9414 - val_loss: 0.3844 - val_accuracy: 0.8967\n",
      "Epoch 18/50\n",
      "1750/1750 [==============================] - 49s 28ms/step - loss: 0.1418 - accuracy: 0.9435 - val_loss: 0.4941 - val_accuracy: 0.8920\n",
      "Epoch 19/50\n",
      "1750/1750 [==============================] - 49s 28ms/step - loss: 0.1413 - accuracy: 0.9433 - val_loss: 0.4229 - val_accuracy: 0.8941\n",
      "Epoch 20/50\n",
      "1750/1750 [==============================] - 49s 28ms/step - loss: 0.1401 - accuracy: 0.9433 - val_loss: 0.4241 - val_accuracy: 0.8922\n",
      "Epoch 21/50\n",
      "1750/1750 [==============================] - 49s 28ms/step - loss: 0.1376 - accuracy: 0.9445 - val_loss: 0.4191 - val_accuracy: 0.8917\n",
      "Epoch 22/50\n",
      "1750/1750 [==============================] - 49s 28ms/step - loss: 0.1350 - accuracy: 0.9451 - val_loss: 0.4271 - val_accuracy: 0.8894\n",
      "Epoch 23/50\n",
      "1750/1750 [==============================] - 49s 28ms/step - loss: 0.1337 - accuracy: 0.9462 - val_loss: 0.4440 - val_accuracy: 0.8963\n",
      "Epoch 24/50\n",
      "1750/1750 [==============================] - 49s 28ms/step - loss: 0.1312 - accuracy: 0.9466 - val_loss: 0.4113 - val_accuracy: 0.8930\n",
      "Epoch 25/50\n",
      "1750/1750 [==============================] - 49s 28ms/step - loss: 0.1308 - accuracy: 0.9475 - val_loss: 0.4069 - val_accuracy: 0.8953\n",
      "Epoch 26/50\n",
      "1750/1750 [==============================] - 49s 28ms/step - loss: 0.1284 - accuracy: 0.9480 - val_loss: 0.4656 - val_accuracy: 0.8941\n",
      "Epoch 27/50\n",
      "1750/1750 [==============================] - 49s 28ms/step - loss: 0.1268 - accuracy: 0.9482 - val_loss: 0.4645 - val_accuracy: 0.8954\n",
      "Epoch 28/50\n",
      "1750/1750 [==============================] - 49s 28ms/step - loss: 0.1261 - accuracy: 0.9484 - val_loss: 0.5090 - val_accuracy: 0.8950\n",
      "Epoch 29/50\n",
      "1750/1750 [==============================] - 49s 28ms/step - loss: 0.1236 - accuracy: 0.9489 - val_loss: 0.4799 - val_accuracy: 0.8945\n",
      "Epoch 30/50\n",
      "1750/1750 [==============================] - 49s 28ms/step - loss: 0.1235 - accuracy: 0.9497 - val_loss: 0.4812 - val_accuracy: 0.8892\n",
      "Epoch 31/50\n",
      "1750/1750 [==============================] - 49s 28ms/step - loss: 0.1232 - accuracy: 0.9499 - val_loss: 0.4585 - val_accuracy: 0.8924\n",
      "Epoch 32/50\n",
      "1750/1750 [==============================] - 49s 28ms/step - loss: 0.1209 - accuracy: 0.9510 - val_loss: 0.4894 - val_accuracy: 0.8939\n",
      "Epoch 33/50\n",
      "1750/1750 [==============================] - 49s 28ms/step - loss: 0.1193 - accuracy: 0.9516 - val_loss: 0.5122 - val_accuracy: 0.8904\n",
      "Epoch 34/50\n",
      "1750/1750 [==============================] - 49s 28ms/step - loss: 0.1188 - accuracy: 0.9518 - val_loss: 0.4868 - val_accuracy: 0.8928\n",
      "Epoch 35/50\n",
      "1750/1750 [==============================] - 49s 28ms/step - loss: 0.1172 - accuracy: 0.9523 - val_loss: 0.4936 - val_accuracy: 0.8955\n",
      "Epoch 36/50\n",
      "1750/1750 [==============================] - 49s 28ms/step - loss: 0.1164 - accuracy: 0.9522 - val_loss: 0.5053 - val_accuracy: 0.8954\n",
      "Epoch 37/50\n",
      "1750/1750 [==============================] - 49s 28ms/step - loss: 0.1145 - accuracy: 0.9534 - val_loss: 0.5124 - val_accuracy: 0.8931\n",
      "Epoch 38/50\n",
      "1750/1750 [==============================] - 49s 28ms/step - loss: 0.1146 - accuracy: 0.9535 - val_loss: 0.5336 - val_accuracy: 0.8928\n",
      "Epoch 39/50\n",
      "1750/1750 [==============================] - 49s 28ms/step - loss: 0.1134 - accuracy: 0.9541 - val_loss: 0.4880 - val_accuracy: 0.8912\n",
      "Epoch 40/50\n",
      "1750/1750 [==============================] - 49s 28ms/step - loss: 0.1113 - accuracy: 0.9548 - val_loss: 0.5002 - val_accuracy: 0.8926\n",
      "Epoch 41/50\n",
      "1750/1750 [==============================] - 49s 28ms/step - loss: 0.1114 - accuracy: 0.9548 - val_loss: 0.4960 - val_accuracy: 0.8923\n",
      "Epoch 42/50\n",
      "1750/1750 [==============================] - 49s 28ms/step - loss: 0.1123 - accuracy: 0.9547 - val_loss: 0.5465 - val_accuracy: 0.8906\n",
      "Epoch 43/50\n",
      "1750/1750 [==============================] - 49s 28ms/step - loss: 0.1113 - accuracy: 0.9546 - val_loss: 0.5256 - val_accuracy: 0.8917\n",
      "Epoch 44/50\n",
      "1750/1750 [==============================] - 49s 28ms/step - loss: 0.1090 - accuracy: 0.9554 - val_loss: 0.5372 - val_accuracy: 0.8927\n",
      "Epoch 45/50\n",
      "1750/1750 [==============================] - 49s 28ms/step - loss: 0.1088 - accuracy: 0.9565 - val_loss: 0.5183 - val_accuracy: 0.8952\n",
      "Epoch 46/50\n",
      "1750/1750 [==============================] - 49s 28ms/step - loss: 0.1076 - accuracy: 0.9559 - val_loss: 0.5759 - val_accuracy: 0.8940\n",
      "Epoch 47/50\n",
      "1750/1750 [==============================] - 49s 28ms/step - loss: 0.1053 - accuracy: 0.9571 - val_loss: 0.5465 - val_accuracy: 0.8919\n",
      "Epoch 48/50\n",
      "1750/1750 [==============================] - 49s 28ms/step - loss: 0.1078 - accuracy: 0.9564 - val_loss: 0.5438 - val_accuracy: 0.8923\n",
      "Epoch 49/50\n",
      "1750/1750 [==============================] - 50s 28ms/step - loss: 0.1045 - accuracy: 0.9584 - val_loss: 0.5737 - val_accuracy: 0.8916\n",
      "Epoch 50/50\n",
      "1750/1750 [==============================] - 49s 28ms/step - loss: 0.1063 - accuracy: 0.9571 - val_loss: 0.5609 - val_accuracy: 0.8911\n"
     ]
    }
   ],
   "source": [
    "history = model.fit(train_X, train_Y, batch_size=64, epochs=50, validation_data=(val_X, val_Y), verbose=1)"
   ]
  },
  {
   "cell_type": "code",
   "execution_count": 19,
   "id": "cbaf64a4",
   "metadata": {
    "execution": {
     "iopub.execute_input": "2022-12-25T18:32:19.525177Z",
     "iopub.status.busy": "2022-12-25T18:32:19.524354Z",
     "iopub.status.idle": "2022-12-25T18:32:19.751051Z",
     "shell.execute_reply": "2022-12-25T18:32:19.751503Z",
     "shell.execute_reply.started": "2022-12-25T16:53:25.362561Z"
    },
    "papermill": {
     "duration": 4.605346,
     "end_time": "2022-12-25T18:32:19.751665",
     "exception": false,
     "start_time": "2022-12-25T18:32:15.146319",
     "status": "completed"
    },
    "tags": []
   },
   "outputs": [
    {
     "data": {
      "image/png": "[encoded data removed]",
      "text/plain": [
       "<Figure size 432x288 with 1 Axes>"
      ]
     },
     "metadata": {
      "needs_background": "light"
     },
     "output_type": "display_data"
    }
   ],
   "source": [
    "plt.plot(history.history['accuracy'])\n",
    "plt.plot(history.history['val_accuracy'])\n",
    "plt.title('Training Accuracy vs Validation Accuracy')\n",
    "plt.ylabel('Accuracy')\n",
    "plt.xlabel('Epoch')\n",
    "plt.legend(['Train', 'Validation'], loc='upper left')\n",
    "plt.show()"
   ]
  },
  {
   "cell_type": "code",
   "execution_count": 20,
   "id": "3e471322",
   "metadata": {
    "execution": {
     "iopub.execute_input": "2022-12-25T18:32:27.967054Z",
     "iopub.status.busy": "2022-12-25T18:32:27.966175Z",
     "iopub.status.idle": "2022-12-25T18:32:28.144237Z",
     "shell.execute_reply": "2022-12-25T18:32:28.144679Z",
     "shell.execute_reply.started": "2022-12-25T16:53:25.594180Z"
    },
    "papermill": {
     "duration": 4.33652,
     "end_time": "2022-12-25T18:32:28.144843",
     "exception": false,
     "start_time": "2022-12-25T18:32:23.808323",
     "status": "completed"
    },
    "tags": []
   },
   "outputs": [
    {
     "data": {
      "image/png": "[encoded data removed]",
      "text/plain": [
       "<Figure size 432x288 with 1 Axes>"
      ]
     },
     "metadata": {
      "needs_background": "light"
     },
     "output_type": "display_data"
    }
   ],
   "source": [
    "plt.plot(history.history['loss'])\n",
    "plt.plot(history.history['val_loss'])\n",
    "plt.title('Training Loss vs Validation Loss')\n",
    "plt.ylabel('Loss')\n",
    "plt.xlabel('Epoch')\n",
    "plt.legend(['Train', 'Validation'], loc='upper left')\n",
    "plt.show()"
   ]
  },
  {
   "attachments": {},
   "cell_type": "markdown",
   "id": "caf1377f",
   "metadata": {
    "papermill": {
     "duration": 4.436333,
     "end_time": "2022-12-25T18:32:36.928704",
     "exception": false,
     "start_time": "2022-12-25T18:32:32.492371",
     "status": "completed"
    },
    "tags": []
   },
   "source": [
    "## 5. Testing (Post-Processing) \n",
    "1. The sort contours function is used to get the correct order of individual characters for correct output extraction. In this case for extracting a single word, a left to right sorting of individual characters is needed.\n",
    "2. The get letters function fetches the list of letters and get word function gets the individual word. "
   ]
  },
  {
   "cell_type": "code",
   "execution_count": 21,
   "id": "de76231a",
   "metadata": {
    "execution": {
     "iopub.execute_input": "2022-12-25T18:32:45.493614Z",
     "iopub.status.busy": "2022-12-25T18:32:45.492895Z",
     "iopub.status.idle": "2022-12-25T18:32:45.496596Z",
     "shell.execute_reply": "2022-12-25T18:32:45.496120Z",
     "shell.execute_reply.started": "2022-12-25T16:53:25.783540Z"
    },
    "papermill": {
     "duration": 4.127729,
     "end_time": "2022-12-25T18:32:45.496730",
     "exception": false,
     "start_time": "2022-12-25T18:32:41.369001",
     "status": "completed"
    },
    "tags": []
   },
   "outputs": [],
   "source": [
    "def sort_contours(cnts, method=\"left-to-right\"):\n",
    "    reverse = False\n",
    "    i = 0\n",
    "    if method == \"right-to-left\" or method == \"bottom-to-top\":\n",
    "        reverse = True\n",
    "    if method == \"top-to-bottom\" or method == \"bottom-to-top\":\n",
    "        i = 1\n",
    "    boundingBoxes = [cv2.boundingRect(c) for c in cnts]\n",
    "    (cnts, boundingBoxes) = zip(*sorted(zip(cnts, boundingBoxes),\n",
    "    key=lambda b:b[1][i], reverse=reverse))\n",
    "    \n",
    "    return (cnts, boundingBoxes)"
   ]
  },
  {
   "cell_type": "code",
   "execution_count": 22,
   "id": "265605fe",
   "metadata": {
    "execution": {
     "iopub.execute_input": "2022-12-25T18:32:53.919874Z",
     "iopub.status.busy": "2022-12-25T18:32:53.918859Z",
     "iopub.status.idle": "2022-12-25T18:32:53.925741Z",
     "shell.execute_reply": "2022-12-25T18:32:53.925133Z",
     "shell.execute_reply.started": "2022-12-25T17:22:07.123430Z"
    },
    "papermill": {
     "duration": 4.356049,
     "end_time": "2022-12-25T18:32:53.925884",
     "exception": false,
     "start_time": "2022-12-25T18:32:49.569835",
     "status": "completed"
    },
    "tags": []
   },
   "outputs": [],
   "source": [
    "def get_letters(img):\n",
    "    letters = []\n",
    "    total_bbox_cordi = []\n",
    "    image = cv2.imread(img)\n",
    "    gray = cv2.cvtColor(image, cv2.COLOR_BGR2GRAY)\n",
    "    ret,thresh1 = cv2.threshold(gray ,127,255,cv2.THRESH_BINARY_INV)\n",
    "    dilated = cv2.dilate(thresh1, None, iterations=2)\n",
    "\n",
    "    cnts = cv2.findContours(dilated.copy(), cv2.RETR_EXTERNAL,cv2.CHAIN_APPROX_SIMPLE)\n",
    "    cnts = imutils.grab_contours(cnts)\n",
    "    cnts = sort_contours(cnts, method=\"left-to-right\")[0]\n",
    "    \n",
    "    for c in cnts:\n",
    "        if cv2.contourArea(c) > 10:\n",
    "            (x, y, w, h) = cv2.boundingRect(c)\n",
    "            print([x,y,w,h])\n",
    "            single_bbox_cordi = [x,y,w,h]\n",
    "            total_bbox_cordi.append(single_bbox_cordi)\n",
    "            cv2.rectangle(image, (x, y), (x + w, y + h), (0, 255, 0), 2)\n",
    "        roi = gray[y:y + h, x:x + w]\n",
    "        thresh = cv2.threshold(roi, 0, 255,cv2.THRESH_BINARY_INV | cv2.THRESH_OTSU)[1]\n",
    "        thresh = cv2.resize(thresh, (32, 32), interpolation = cv2.INTER_CUBIC)\n",
    "        thresh = thresh.astype(\"float32\") / 255.0\n",
    "        thresh = np.expand_dims(thresh, axis=-1)\n",
    "        thresh = thresh.reshape(1,32,32,1)\n",
    "        ypred = model.predict(thresh)\n",
    "        ypred = LB.inverse_transform(ypred)\n",
    "        [x] = ypred\n",
    "        letters.append(x)\n",
    "    return letters, image, total_bbox_cordi\n",
    "\n"
   ]
  },
  {
   "cell_type": "code",
   "execution_count": 23,
   "id": "1dc024ba",
   "metadata": {
    "execution": {
     "iopub.execute_input": "2022-12-25T18:33:02.317516Z",
     "iopub.status.busy": "2022-12-25T18:33:02.316657Z",
     "iopub.status.idle": "2022-12-25T18:33:02.318973Z",
     "shell.execute_reply": "2022-12-25T18:33:02.318438Z",
     "shell.execute_reply.started": "2022-12-25T16:53:25.803807Z"
    },
    "papermill": {
     "duration": 4.284994,
     "end_time": "2022-12-25T18:33:02.319129",
     "exception": false,
     "start_time": "2022-12-25T18:32:58.034135",
     "status": "completed"
    },
    "tags": []
   },
   "outputs": [],
   "source": [
    "def get_word(letter):\n",
    "    word = \"\".join(letter)\n",
    "    return word"
   ]
  },
  {
   "cell_type": "code",
   "execution_count": 24,
   "id": "daf061fb",
   "metadata": {
    "execution": {
     "iopub.execute_input": "2022-12-25T18:33:11.005372Z",
     "iopub.status.busy": "2022-12-25T18:33:11.004815Z",
     "iopub.status.idle": "2022-12-25T18:33:11.525243Z",
     "shell.execute_reply": "2022-12-25T18:33:11.524621Z",
     "shell.execute_reply.started": "2022-12-25T17:24:23.763041Z"
    },
    "papermill": {
     "duration": 5.078201,
     "end_time": "2022-12-25T18:33:11.525405",
     "exception": false,
     "start_time": "2022-12-25T18:33:06.447204",
     "status": "completed"
    },
    "tags": []
   },
   "outputs": [
    {
     "name": "stdout",
     "output_type": "stream",
     "text": [
      "[35, 34, 66, 131]\n",
      "1/1 [==============================] - 0s 483ms/step\n",
      "[119, 49, 57, 92]\n",
      "1/1 [==============================] - 0s 31ms/step\n",
      "[203, 50, 54, 84]\n",
      "1/1 [==============================] - 0s 32ms/step\n",
      "[253, 35, 88, 104]\n",
      "1/1 [==============================] - 0s 33ms/step\n",
      "[339, 41, 56, 94]\n",
      "1/1 [==============================] - 0s 31ms/step\n",
      "[415, 42, 85, 97]\n",
      "1/1 [==============================] - 0s 28ms/step\n",
      "[[35, 34, 66, 131], [119, 49, 57, 92], [203, 50, 54, 84], [253, 35, 88, 104], [339, 41, 56, 94], [415, 42, 85, 97]]\n",
      "BUATAN\n"
     ]
    },
    {
     "data": {
      "image/png": "[encoded data removed]",
      "text/plain": [
       "<Figure size 432x288 with 1 Axes>"
      ]
     },
     "metadata": {
      "needs_background": "light"
     },
     "output_type": "display_data"
    }
   ],
   "source": [
    "letter,image, total_bbox_cordi = get_letters(\"input/handwritten-characters/Test/test_2.jpg\")\n",
    "word = get_word(letter)\n",
    "print(total_bbox_cordi)\n",
    "plt.imshow(image)\n",
    "print(word)"
   ]
  },
  {
   "cell_type": "code",
   "execution_count": 25,
   "id": "786faa4b",
   "metadata": {
    "execution": {
     "iopub.execute_input": "2022-12-25T18:34:04.246172Z",
     "iopub.status.busy": "2022-12-25T18:34:04.245313Z",
     "iopub.status.idle": "2022-12-25T18:34:04.570237Z",
     "shell.execute_reply": "2022-12-25T18:34:04.569644Z",
     "shell.execute_reply.started": "2022-12-25T17:57:08.077016Z"
    },
    "papermill": {
     "duration": 4.42225,
     "end_time": "2022-12-25T18:34:04.570391",
     "exception": false,
     "start_time": "2022-12-25T18:34:00.148141",
     "status": "completed"
    },
    "tags": []
   },
   "outputs": [
    {
     "data": {
      "image/png": "[encoded data removed]",
      "text/plain": [
       "<Figure size 1080x720 with 6 Axes>"
      ]
     },
     "metadata": {
      "needs_background": "light"
     },
     "output_type": "display_data"
    }
   ],
   "source": [
    "plt.figure(figsize=(15, 10))\n",
    "for i in range(0,len(total_bbox_cordi)):\n",
    "    ax = plt.subplot(10, 2, i+1)\n",
    "    t =total_bbox_cordi[i]\n",
    "    x_min = t[0]\n",
    "    y_min = t[1]\n",
    "    w_min = t[2]\n",
    "    h_min= t[3]\n",
    "    cropped_image = image[y_min:y_min+h_min, x_min:x_min+w_min]\n",
    "    plt.title(letter[i], fontsize=12)\n",
    "    plt.imshow(cropped_image)\n",
    "    plt.axis('off')\n",
    "plt.subplots_adjust(wspace=0.4, hspace=0.5)"
   ]
  },
  {
   "cell_type": "code",
   "execution_count": 26,
   "id": "eb866523",
   "metadata": {},
   "outputs": [],
   "source": [
    "model.save('hcr.h5')"
   ]
  }
 ],
 "metadata": {
  "kernelspec": {
   "display_name": "Python 3 (ipykernel)",
   "language": "python",
   "name": "python3"
  },
  "language_info": {
   "codemirror_mode": {
    "name": "ipython",
    "version": 3
   },
   "file_extension": ".py",
   "mimetype": "text/x-python",
   "name": "python",
   "nbconvert_exporter": "python",
   "pygments_lexer": "ipython3",
   "version": "3.9.12 (main, Apr  4 2022, 05:22:27) [MSC v.1916 64 bit (AMD64)]"
  },
  "papermill": {
   "default_parameters": {},
   "duration": 2092.279571,
   "end_time": "2022-12-25T18:34:33.263552",
   "environment_variables": {},
   "exception": null,
   "input_path": "__notebook__.ipynb",
   "output_path": "__notebook__.ipynb",
   "parameters": {},
   "start_time": "2022-12-25T17:59:40.983981",
   "version": "2.3.3"
  },
  "vscode": {
   "interpreter": {
    "hash": "60b1064cf74509eae3a3ba316f0efe0bc5e100ccc5ad1bcac5d3271849ea03e9"
   }
  }
 },
 "nbformat": 4,
 "nbformat_minor": 5
}
