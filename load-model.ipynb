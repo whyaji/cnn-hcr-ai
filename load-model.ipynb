{
 "cells": [
  {
   "cell_type": "code",
   "execution_count": 1,
   "id": "509461b5",
   "metadata": {
    "_cell_guid": "79c7e3d0-c299-4dcb-8224-4455121ee9b0",
    "_uuid": "d629ff2d2480ee46fbb7e2d37f6b5fab8052498a",
    "execution": {
     "iopub.execute_input": "2022-12-25T17:59:59.990156Z",
     "iopub.status.busy": "2022-12-25T17:59:59.989260Z",
     "iopub.status.idle": "2022-12-25T18:00:06.079609Z",
     "shell.execute_reply": "2022-12-25T18:00:06.079082Z",
     "shell.execute_reply.started": "2022-12-25T16:29:26.593476Z"
    },
    "papermill": {
     "duration": 6.119119,
     "end_time": "2022-12-25T18:00:06.079749",
     "exception": false,
     "start_time": "2022-12-25T17:59:59.960630",
     "status": "completed"
    },
    "tags": []
   },
   "outputs": [],
   "source": [
    "import numpy as np\n",
    "import pandas as pd\n",
    "from keras.preprocessing.image import ImageDataGenerator\n",
    "import os\n",
    "import random \n",
    "import cv2\n",
    "import imutils\n",
    "import random\n",
    "import matplotlib.pyplot as plt\n",
    "import seaborn as sns\n",
    "from sklearn.preprocessing import LabelBinarizer\n",
    "from keras.utils import np_utils\n",
    "from keras.models import Sequential\n",
    "from keras import optimizers\n",
    "from sklearn.preprocessing import LabelBinarizer\n",
    "from keras import backend as K\n",
    "from keras.layers import Dense, Activation, Flatten, Dense,MaxPooling2D, Dropout\n",
    "from keras.layers import Conv2D, MaxPooling2D, BatchNormalization"
   ]
  },
  {
   "attachments": {},
   "cell_type": "markdown",
   "id": "a3777516",
   "metadata": {},
   "source": [
    "## 1. Pre-Processing "
   ]
  },
  {
   "cell_type": "code",
   "execution_count": 2,
   "id": "711d6f4a",
   "metadata": {
    "execution": {
     "iopub.execute_input": "2022-12-25T18:00:06.130327Z",
     "iopub.status.busy": "2022-12-25T18:00:06.129756Z",
     "iopub.status.idle": "2022-12-25T18:13:03.342664Z",
     "shell.execute_reply": "2022-12-25T18:13:03.342025Z",
     "shell.execute_reply.started": "2022-12-25T16:29:32.608940Z"
    },
    "papermill": {
     "duration": 777.240709,
     "end_time": "2022-12-25T18:13:03.342848",
     "exception": false,
     "start_time": "2022-12-25T18:00:06.102139",
     "status": "completed"
    },
    "tags": []
   },
   "outputs": [],
   "source": [
    "dir = \"input/handwritten-characters/Train/\"\n",
    "train_data = []\n",
    "img_size = 32\n",
    "for i in os.listdir(dir):\n",
    "    count = 0\n",
    "    sub_directory = os.path.join(dir,i)\n",
    "    for j in os.listdir(sub_directory):\n",
    "        count+=1\n",
    "        if count > 1:\n",
    "            break\n",
    "        img = cv2.imread(os.path.join(sub_directory,j),0)\n",
    "        img = cv2.resize(img,(img_size,img_size))\n",
    "        train_data.append([img,i])"
   ]
  },
  {
   "cell_type": "code",
   "execution_count": 3,
   "id": "4519fbbf",
   "metadata": {
    "execution": {
     "iopub.execute_input": "2022-12-25T18:13:03.393848Z",
     "iopub.status.busy": "2022-12-25T18:13:03.391099Z",
     "iopub.status.idle": "2022-12-25T18:13:03.399092Z",
     "shell.execute_reply": "2022-12-25T18:13:03.398668Z",
     "shell.execute_reply.started": "2022-12-25T16:43:13.913446Z"
    },
    "papermill": {
     "duration": 0.033581,
     "end_time": "2022-12-25T18:13:03.399227",
     "exception": false,
     "start_time": "2022-12-25T18:13:03.365646",
     "status": "completed"
    },
    "tags": []
   },
   "outputs": [
    {
     "data": {
      "text/plain": [
       "35"
      ]
     },
     "execution_count": 3,
     "metadata": {},
     "output_type": "execute_result"
    }
   ],
   "source": [
    "len(train_data)"
   ]
  },
  {
   "cell_type": "code",
   "execution_count": 4,
   "id": "8661fcc9",
   "metadata": {
    "execution": {
     "iopub.execute_input": "2022-12-25T18:13:03.449720Z",
     "iopub.status.busy": "2022-12-25T18:13:03.449035Z",
     "iopub.status.idle": "2022-12-25T18:14:13.285877Z",
     "shell.execute_reply": "2022-12-25T18:14:13.285224Z",
     "shell.execute_reply.started": "2022-12-25T16:43:13.925697Z"
    },
    "papermill": {
     "duration": 69.864658,
     "end_time": "2022-12-25T18:14:13.286020",
     "exception": false,
     "start_time": "2022-12-25T18:13:03.421362",
     "status": "completed"
    },
    "tags": []
   },
   "outputs": [],
   "source": [
    "val_dir = \"input/handwritten-characters/Validation/\"\n",
    "val_data = []\n",
    "img_size = 32\n",
    "for i in os.listdir(val_dir):\n",
    "    count = 0\n",
    "    sub_directory = os.path.join(val_dir,i)\n",
    "    for j in os.listdir(sub_directory):\n",
    "        count+=1\n",
    "        if count > 1:\n",
    "            break\n",
    "        img = cv2.imread(os.path.join(sub_directory,j),0)\n",
    "        img = cv2.resize(img,(img_size,img_size))\n",
    "        val_data.append([img,i])"
   ]
  },
  {
   "cell_type": "code",
   "execution_count": 5,
   "id": "e87ade35",
   "metadata": {
    "execution": {
     "iopub.execute_input": "2022-12-25T18:14:13.335390Z",
     "iopub.status.busy": "2022-12-25T18:14:13.334843Z",
     "iopub.status.idle": "2022-12-25T18:14:13.339617Z",
     "shell.execute_reply": "2022-12-25T18:14:13.340042Z",
     "shell.execute_reply.started": "2022-12-25T16:44:57.183210Z"
    },
    "papermill": {
     "duration": 0.031289,
     "end_time": "2022-12-25T18:14:13.340178",
     "exception": false,
     "start_time": "2022-12-25T18:14:13.308889",
     "status": "completed"
    },
    "tags": []
   },
   "outputs": [
    {
     "data": {
      "text/plain": [
       "35"
      ]
     },
     "execution_count": 5,
     "metadata": {},
     "output_type": "execute_result"
    }
   ],
   "source": [
    "len(val_data)"
   ]
  },
  {
   "cell_type": "code",
   "execution_count": 6,
   "id": "4d7bf1af",
   "metadata": {
    "execution": {
     "iopub.execute_input": "2022-12-25T18:14:13.417564Z",
     "iopub.status.busy": "2022-12-25T18:14:13.407204Z",
     "iopub.status.idle": "2022-12-25T18:14:13.515257Z",
     "shell.execute_reply": "2022-12-25T18:14:13.514776Z",
     "shell.execute_reply.started": "2022-12-25T16:44:57.192547Z"
    },
    "papermill": {
     "duration": 0.153013,
     "end_time": "2022-12-25T18:14:13.515396",
     "exception": false,
     "start_time": "2022-12-25T18:14:13.362383",
     "status": "completed"
    },
    "tags": []
   },
   "outputs": [],
   "source": [
    "random.shuffle(train_data)\n",
    "random.shuffle(val_data)"
   ]
  },
  {
   "attachments": {},
   "cell_type": "markdown",
   "id": "c14af8a4",
   "metadata": {},
   "source": [
    "## 2. Segmentation"
   ]
  },
  {
   "cell_type": "code",
   "execution_count": 7,
   "id": "133daaf4",
   "metadata": {
    "execution": {
     "iopub.execute_input": "2022-12-25T18:14:13.588841Z",
     "iopub.status.busy": "2022-12-25T18:14:13.573392Z",
     "iopub.status.idle": "2022-12-25T18:14:13.639217Z",
     "shell.execute_reply": "2022-12-25T18:14:13.638773Z",
     "shell.execute_reply.started": "2022-12-25T16:44:57.341186Z"
    },
    "papermill": {
     "duration": 0.101446,
     "end_time": "2022-12-25T18:14:13.639374",
     "exception": false,
     "start_time": "2022-12-25T18:14:13.537928",
     "status": "completed"
    },
    "tags": []
   },
   "outputs": [],
   "source": [
    "train_X = []\n",
    "train_Y = []\n",
    "for features,label in train_data:\n",
    "    train_X.append(features)\n",
    "    train_Y.append(label)"
   ]
  },
  {
   "cell_type": "code",
   "execution_count": 8,
   "id": "0c286ff1",
   "metadata": {
    "execution": {
     "iopub.execute_input": "2022-12-25T18:14:13.696306Z",
     "iopub.status.busy": "2022-12-25T18:14:13.695513Z",
     "iopub.status.idle": "2022-12-25T18:14:13.697554Z",
     "shell.execute_reply": "2022-12-25T18:14:13.697939Z",
     "shell.execute_reply.started": "2022-12-25T16:44:57.420145Z"
    },
    "papermill": {
     "duration": 0.03589,
     "end_time": "2022-12-25T18:14:13.698070",
     "exception": false,
     "start_time": "2022-12-25T18:14:13.662180",
     "status": "completed"
    },
    "tags": []
   },
   "outputs": [],
   "source": [
    "val_X = []\n",
    "val_Y = []\n",
    "for features,label in val_data:\n",
    "    val_X.append(features)\n",
    "    val_Y.append(label)"
   ]
  },
  {
   "cell_type": "code",
   "execution_count": 9,
   "id": "1e4be09a",
   "metadata": {
    "execution": {
     "iopub.execute_input": "2022-12-25T18:14:13.762377Z",
     "iopub.status.busy": "2022-12-25T18:14:13.756986Z",
     "iopub.status.idle": "2022-12-25T18:14:14.016113Z",
     "shell.execute_reply": "2022-12-25T18:14:14.015576Z",
     "shell.execute_reply.started": "2022-12-25T16:44:57.434139Z"
    },
    "papermill": {
     "duration": 0.295923,
     "end_time": "2022-12-25T18:14:14.016249",
     "exception": false,
     "start_time": "2022-12-25T18:14:13.720326",
     "status": "completed"
    },
    "tags": []
   },
   "outputs": [],
   "source": [
    "LB = LabelBinarizer()\n",
    "train_Y = LB.fit_transform(train_Y)\n",
    "val_Y = LB.fit_transform(val_Y)"
   ]
  },
  {
   "attachments": {},
   "cell_type": "markdown",
   "id": "de765a99",
   "metadata": {},
   "source": [
    "## 3. Load Model"
   ]
  },
  {
   "cell_type": "code",
   "execution_count": 10,
   "id": "1da45461",
   "metadata": {
    "execution": {
     "iopub.execute_input": "2022-12-25T18:14:14.864058Z",
     "iopub.status.busy": "2022-12-25T18:14:14.863432Z",
     "iopub.status.idle": "2022-12-25T18:14:17.777114Z",
     "shell.execute_reply": "2022-12-25T18:14:17.776473Z",
     "shell.execute_reply.started": "2022-12-25T16:44:58.377505Z"
    },
    "papermill": {
     "duration": 2.942608,
     "end_time": "2022-12-25T18:14:17.777274",
     "exception": false,
     "start_time": "2022-12-25T18:14:14.834666",
     "status": "completed"
    },
    "tags": []
   },
   "outputs": [],
   "source": [
    "from tensorflow import keras\n",
    "model = keras.models.load_model('hcr.h5')"
   ]
  },
  {
   "attachments": {},
   "cell_type": "markdown",
   "id": "caf1377f",
   "metadata": {
    "papermill": {
     "duration": 4.436333,
     "end_time": "2022-12-25T18:32:36.928704",
     "exception": false,
     "start_time": "2022-12-25T18:32:32.492371",
     "status": "completed"
    },
    "tags": []
   },
   "source": [
    "## 4. Testing (Post-Processing) \n",
    "1. The sort contours function is used to get the correct order of individual characters for correct output extraction. In this case for extracting a single word, a left to right sorting of individual characters is needed.\n",
    "2. The get letters function fetches the list of letters and get word function gets the individual word. "
   ]
  },
  {
   "cell_type": "code",
   "execution_count": 11,
   "id": "de76231a",
   "metadata": {
    "execution": {
     "iopub.execute_input": "2022-12-25T18:32:45.493614Z",
     "iopub.status.busy": "2022-12-25T18:32:45.492895Z",
     "iopub.status.idle": "2022-12-25T18:32:45.496596Z",
     "shell.execute_reply": "2022-12-25T18:32:45.496120Z",
     "shell.execute_reply.started": "2022-12-25T16:53:25.783540Z"
    },
    "papermill": {
     "duration": 4.127729,
     "end_time": "2022-12-25T18:32:45.496730",
     "exception": false,
     "start_time": "2022-12-25T18:32:41.369001",
     "status": "completed"
    },
    "tags": []
   },
   "outputs": [],
   "source": [
    "def sort_contours(cnts, method=\"left-to-right\"):\n",
    "    reverse = False\n",
    "    i = 0\n",
    "    if method == \"right-to-left\" or method == \"bottom-to-top\":\n",
    "        reverse = True\n",
    "    if method == \"top-to-bottom\" or method == \"bottom-to-top\":\n",
    "        i = 1\n",
    "    boundingBoxes = [cv2.boundingRect(c) for c in cnts]\n",
    "    (cnts, boundingBoxes) = zip(*sorted(zip(cnts, boundingBoxes),\n",
    "    key=lambda b:b[1][i], reverse=reverse))\n",
    "    \n",
    "    return (cnts, boundingBoxes)"
   ]
  },
  {
   "cell_type": "code",
   "execution_count": 12,
   "id": "265605fe",
   "metadata": {
    "execution": {
     "iopub.execute_input": "2022-12-25T18:32:53.919874Z",
     "iopub.status.busy": "2022-12-25T18:32:53.918859Z",
     "iopub.status.idle": "2022-12-25T18:32:53.925741Z",
     "shell.execute_reply": "2022-12-25T18:32:53.925133Z",
     "shell.execute_reply.started": "2022-12-25T17:22:07.123430Z"
    },
    "papermill": {
     "duration": 4.356049,
     "end_time": "2022-12-25T18:32:53.925884",
     "exception": false,
     "start_time": "2022-12-25T18:32:49.569835",
     "status": "completed"
    },
    "tags": []
   },
   "outputs": [],
   "source": [
    "def get_letters(img):\n",
    "    letters = []\n",
    "    total_bbox_cordi = []\n",
    "    image = cv2.imread(img)\n",
    "    gray = cv2.cvtColor(image, cv2.COLOR_BGR2GRAY)\n",
    "    ret,thresh1 = cv2.threshold(gray ,127,255,cv2.THRESH_BINARY_INV)\n",
    "    dilated = cv2.dilate(thresh1, None, iterations=2)\n",
    "\n",
    "    cnts = cv2.findContours(dilated.copy(), cv2.RETR_EXTERNAL,cv2.CHAIN_APPROX_SIMPLE)\n",
    "    cnts = imutils.grab_contours(cnts)\n",
    "    cnts = sort_contours(cnts, method=\"left-to-right\")[0]\n",
    "    \n",
    "    for c in cnts:\n",
    "        if cv2.contourArea(c) > 10:\n",
    "            (x, y, w, h) = cv2.boundingRect(c)\n",
    "            print([x,y,w,h])\n",
    "            single_bbox_cordi = [x,y,w,h]\n",
    "            total_bbox_cordi.append(single_bbox_cordi)\n",
    "            cv2.rectangle(image, (x, y), (x + w, y + h), (0, 255, 0), 2)\n",
    "        roi = gray[y:y + h, x:x + w]\n",
    "        thresh = cv2.threshold(roi, 0, 255,cv2.THRESH_BINARY_INV | cv2.THRESH_OTSU)[1]\n",
    "        thresh = cv2.resize(thresh, (32, 32), interpolation = cv2.INTER_CUBIC)\n",
    "        thresh = thresh.astype(\"float32\") / 255.0\n",
    "        thresh = np.expand_dims(thresh, axis=-1)\n",
    "        thresh = thresh.reshape(1,32,32,1)\n",
    "        ypred = model.predict(thresh)\n",
    "        ypred = LB.inverse_transform(ypred)\n",
    "        [x] = ypred\n",
    "        letters.append(x)\n",
    "    return letters, image, total_bbox_cordi\n",
    "\n"
   ]
  },
  {
   "cell_type": "code",
   "execution_count": 13,
   "id": "1dc024ba",
   "metadata": {
    "execution": {
     "iopub.execute_input": "2022-12-25T18:33:02.317516Z",
     "iopub.status.busy": "2022-12-25T18:33:02.316657Z",
     "iopub.status.idle": "2022-12-25T18:33:02.318973Z",
     "shell.execute_reply": "2022-12-25T18:33:02.318438Z",
     "shell.execute_reply.started": "2022-12-25T16:53:25.803807Z"
    },
    "papermill": {
     "duration": 4.284994,
     "end_time": "2022-12-25T18:33:02.319129",
     "exception": false,
     "start_time": "2022-12-25T18:32:58.034135",
     "status": "completed"
    },
    "tags": []
   },
   "outputs": [],
   "source": [
    "def get_word(letter):\n",
    "    word = \"\".join(letter)\n",
    "    return word"
   ]
  },
  {
   "cell_type": "code",
   "execution_count": 14,
   "id": "daf061fb",
   "metadata": {
    "execution": {
     "iopub.execute_input": "2022-12-25T18:33:11.005372Z",
     "iopub.status.busy": "2022-12-25T18:33:11.004815Z",
     "iopub.status.idle": "2022-12-25T18:33:11.525243Z",
     "shell.execute_reply": "2022-12-25T18:33:11.524621Z",
     "shell.execute_reply.started": "2022-12-25T17:24:23.763041Z"
    },
    "papermill": {
     "duration": 5.078201,
     "end_time": "2022-12-25T18:33:11.525405",
     "exception": false,
     "start_time": "2022-12-25T18:33:06.447204",
     "status": "completed"
    },
    "tags": []
   },
   "outputs": [
    {
     "name": "stdout",
     "output_type": "stream",
     "text": [
      "[67, 54, 60, 123]\n",
      "1/1 [==============================] - 2s 2s/step\n",
      "[147, 56, 69, 106]\n",
      "1/1 [==============================] - 0s 108ms/step\n",
      "[239, 54, 72, 91]\n",
      "1/1 [==============================] - 0s 23ms/step\n",
      "[320, 51, 69, 123]\n",
      "1/1 [==============================] - 0s 23ms/step\n",
      "[395, 63, 78, 106]\n",
      "1/1 [==============================] - 0s 26ms/step\n",
      "[475, 62, 60, 107]\n",
      "1/1 [==============================] - 0s 28ms/step\n",
      "[541, 59, 50, 105]\n",
      "1/1 [==============================] - 0s 24ms/step\n",
      "[607, 67, 43, 86]\n",
      "1/1 [==============================] - 0s 24ms/step\n",
      "[668, 52, 59, 103]\n",
      "1/1 [==============================] - 0s 27ms/step\n",
      "[752, 60, 73, 99]\n",
      "1/1 [==============================] - 0s 28ms/step\n",
      "[[67, 54, 60, 123], [147, 56, 69, 106], [239, 54, 72, 91], [320, 51, 69, 123], [395, 63, 78, 106], [475, 62, 60, 107], [541, 59, 50, 105], [607, 67, 43, 86], [668, 52, 59, 103], [752, 60, 73, 99]]\n",
      "KECERDASAN\n"
     ]
    },
    {
     "data": {
      "image/png": "[encoded data removed]",
      "text/plain": [
       "<Figure size 432x288 with 1 Axes>"
      ]
     },
     "metadata": {
      "needs_background": "light"
     },
     "output_type": "display_data"
    }
   ],
   "source": [
    "letter,image, total_bbox_cordi = get_letters(\"input/handwritten-characters/Test/test_1.jpg\")\n",
    "word = get_word(letter)\n",
    "print(total_bbox_cordi)\n",
    "plt.imshow(image)\n",
    "plt.title('Result: ' + word)\n",
    "print(word)"
   ]
  },
  {
   "cell_type": "code",
   "execution_count": 15,
   "id": "786faa4b",
   "metadata": {
    "execution": {
     "iopub.execute_input": "2022-12-25T18:34:04.246172Z",
     "iopub.status.busy": "2022-12-25T18:34:04.245313Z",
     "iopub.status.idle": "2022-12-25T18:34:04.570237Z",
     "shell.execute_reply": "2022-12-25T18:34:04.569644Z",
     "shell.execute_reply.started": "2022-12-25T17:57:08.077016Z"
    },
    "papermill": {
     "duration": 4.42225,
     "end_time": "2022-12-25T18:34:04.570391",
     "exception": false,
     "start_time": "2022-12-25T18:34:00.148141",
     "status": "completed"
    },
    "tags": []
   },
   "outputs": [
    {
     "data": {
      "image/png": "[encoded data removed]",
      "text/plain": [
       "<Figure size 1080x720 with 10 Axes>"
      ]
     },
     "metadata": {
      "needs_background": "light"
     },
     "output_type": "display_data"
    }
   ],
   "source": [
    "plt.figure(figsize=(15, 10))\n",
    "for i in range(0,len(total_bbox_cordi)):\n",
    "    ax = plt.subplot(10, 2, i+1)\n",
    "    t =total_bbox_cordi[i]\n",
    "    x_min = t[0]\n",
    "    y_min = t[1]\n",
    "    w_min = t[2]\n",
    "    h_min= t[3]\n",
    "    cropped_image = image[y_min:y_min+h_min, x_min:x_min+w_min]\n",
    "    plt.title(letter[i], fontsize=12)\n",
    "    plt.imshow(cropped_image)\n",
    "    plt.axis('off')\n",
    "plt.subplots_adjust(wspace=0.4, hspace=0.5)"
   ]
  }
 ],
 "metadata": {
  "kernelspec": {
   "display_name": "Python 3 (ipykernel)",
   "language": "python",
   "name": "python3"
  },
  "language_info": {
   "codemirror_mode": {
    "name": "ipython",
    "version": 3
   },
   "file_extension": ".py",
   "mimetype": "text/x-python",
   "name": "python",
   "nbconvert_exporter": "python",
   "pygments_lexer": "ipython3",
   "version": "3.9.12"
  },
  "papermill": {
   "default_parameters": {},
   "duration": 2092.279571,
   "end_time": "2022-12-25T18:34:33.263552",
   "environment_variables": {},
   "exception": null,
   "input_path": "__notebook__.ipynb",
   "output_path": "__notebook__.ipynb",
   "parameters": {},
   "start_time": "2022-12-25T17:59:40.983981",
   "version": "2.3.3"
  },
  "vscode": {
   "interpreter": {
    "hash": "60b1064cf74509eae3a3ba316f0efe0bc5e100ccc5ad1bcac5d3271849ea03e9"
   }
  }
 },
 "nbformat": 4,
 "nbformat_minor": 5
}
